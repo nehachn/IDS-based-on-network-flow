{
  "nbformat": 4,
  "nbformat_minor": 0,
  "metadata": {
    "colab": {
      "name": "BaseModel.ipynb",
      "provenance": []
    },
    "kernelspec": {
      "name": "python3",
      "display_name": "Python 3"
    },
    "language_info": {
      "name": "python"
    }
  },
  "cells": [
    {
      "cell_type": "code",
      "metadata": {
        "id": "H8hl7E1P5Nub"
      },
      "source": [
        "# read & manipulate data\n",
        "import pandas as pd \n",
        "import numpy as np\n",
        "import tensorflow as tf\n",
        "from collections import Counter\n",
        "# visualisations\n",
        "import matplotlib.pyplot as plt\n",
        "import seaborn as sns\n",
        "sns.set(style='whitegrid', context='notebook')\n",
        "%matplotlib notebook\n",
        "#mic\n",
        "import time"
      ],
      "execution_count": null,
      "outputs": []
    },
    {
      "cell_type": "code",
      "metadata": {
        "id": "aar9u3yCR8uU"
      },
      "source": [
        "df = pd.read_csv(\"/content/drive/MyDrive/cicids2017 dataset/all_data.csv\")"
      ],
      "execution_count": null,
      "outputs": []
    },
    {
      "cell_type": "markdown",
      "metadata": {
        "id": "Gs8JI3JVqvYj"
      },
      "source": [
        "#Train/test split"
      ]
    },
    {
      "cell_type": "code",
      "metadata": {
        "colab": {
          "base_uri": "https://localhost:8080/"
        },
        "id": "CsnHAp655JlX",
        "outputId": "e7fc959b-89cd-4839-fd27-b6a24bc1e3b8"
      },
      "source": [
        "attack = df[df.anomaly == 1]\n",
        "normal = df[df.anomaly == 0]\n",
        "attack = attack.drop('Label', axis=1)\n",
        "normal = normal.drop('Label', axis=1)\n",
        "print(f\"\"\"Shape of the datasets:\n",
        "    clean (rows, cols) = {normal.shape}\n",
        "    fraud (rows, cols) = {attack.shape}\"\"\")"
      ],
      "execution_count": null,
      "outputs": [
        {
          "output_type": "stream",
          "text": [
            "Shape of the datasets:\n",
            "    clean (rows, cols) = (2271320, 80)\n",
            "    fraud (rows, cols) = (556556, 80)\n"
          ],
          "name": "stdout"
        }
      ]
    },
    {
      "cell_type": "code",
      "metadata": {
        "colab": {
          "base_uri": "https://localhost:8080/"
        },
        "id": "KGPttVjnq3Tp",
        "outputId": "26edd894-266b-4fa0-c15d-91e8e47d57b4"
      },
      "source": [
        "# shuffle our training set\n",
        "normal = normal.sample(frac=1).reset_index(drop=True)\n",
        "\n",
        "#TRAINING_SAMPLE= math.ceil(normal.shape[0]*(20/100))\n",
        "TRAINING_SAMPLE = normal.shape[0] - attack.shape[0]\n",
        "\n",
        "print(f\"\"\"training sample size: {TRAINING_SAMPLE} and normal case size: {normal.shape[0]} left out normals: {normal.shape[0]-TRAINING_SAMPLE}\"\"\")\n",
        "\n",
        "# training set: exlusively normal samples\n",
        "X_train_all = normal.iloc[:TRAINING_SAMPLE]\n",
        "\n",
        "# testing  set: the remaining normal + all the attack samples \n",
        "X_test_normal = normal.iloc[TRAINING_SAMPLE:]\n",
        "X_test_attack = attack\n",
        "X_test = normal.iloc[TRAINING_SAMPLE:].append(attack).sample(frac=1)\n",
        "print(f\"\"\"Our testing set is composed as follows:\n",
        "{X_test.anomaly.value_counts()}\"\"\")\n",
        "print(f\"\"\"Class ratio in testing set is composed as follows:\n",
        "{X_test.anomaly.value_counts(normalize=True)*100}\"\"\")"
      ],
      "execution_count": null,
      "outputs": [
        {
          "output_type": "stream",
          "text": [
            "training sample size: 1714764 and normal case size: 2271320 left out normals: 556556\n",
            "Our testing set is composed as follows:\n",
            "1    556556\n",
            "0    556556\n",
            "Name: anomaly, dtype: int64\n",
            "Class ratio in testing set is composed as follows:\n",
            "1    50.0\n",
            "0    50.0\n",
            "Name: anomaly, dtype: float64\n"
          ],
          "name": "stdout"
        }
      ]
    },
    {
      "cell_type": "code",
      "metadata": {
        "colab": {
          "base_uri": "https://localhost:8080/"
        },
        "id": "rOfcO6YurcPH",
        "outputId": "9986e3b1-0517-42c0-c133-b3fcac90e172"
      },
      "source": [
        "print(f\"\"\"Shape of the datasets:\n",
        "    training (rows, cols) = {X_train_all.shape}\n",
        "    test normal (rows, cols) = {X_test_normal.shape}\n",
        "    test attack  (rows, cols) = {X_test_attack.shape}\"\"\")"
      ],
      "execution_count": null,
      "outputs": [
        {
          "output_type": "stream",
          "text": [
            "Shape of the datasets:\n",
            "    training (rows, cols) = (1714764, 80)\n",
            "    test normal (rows, cols) = (556556, 80)\n",
            "    test attack  (rows, cols) = (556556, 80)\n"
          ],
          "name": "stdout"
        }
      ]
    },
    {
      "cell_type": "code",
      "metadata": {
        "id": "ACIoNFLOtDER"
      },
      "source": [
        "train_features_set = X_train_all[X_train_all.columns.difference(['anomaly'])].sample(frac=.01, random_state=123)\n",
        "test_features_benign = X_test_normal[X_test_normal.columns.difference(['anomaly'])].sample(frac=.01, random_state=123)\n",
        "test_features_malic = X_test_attack[X_test_attack.columns.difference(['anomaly'])].sample(frac=.01, random_state=123)"
      ],
      "execution_count": null,
      "outputs": []
    },
    {
      "cell_type": "code",
      "metadata": {
        "colab": {
          "base_uri": "https://localhost:8080/"
        },
        "id": "87UOLkCAFCIB",
        "outputId": "80b362bf-a1cb-437e-9709-91167af718cf"
      },
      "source": [
        "print(f\"\"\"Shape of the datasets:\n",
        "    training (rows, cols) = {train_features_set.shape}\n",
        "    test normal (rows, cols) = {test_features_benign.shape}\n",
        "    test attack  (rows, cols) = {test_features_malic.shape}\"\"\")"
      ],
      "execution_count": null,
      "outputs": [
        {
          "output_type": "stream",
          "text": [
            "Shape of the datasets:\n",
            "    training (rows, cols) = (17148, 79)\n",
            "    test normal (rows, cols) = (5566, 79)\n",
            "    test attack  (rows, cols) = (5566, 79)\n"
          ],
          "name": "stdout"
        }
      ]
    },
    {
      "cell_type": "markdown",
      "metadata": {
        "id": "SdelGE9ouF05"
      },
      "source": [
        "#One Class SVM"
      ]
    },
    {
      "cell_type": "code",
      "metadata": {
        "id": "l2011kwkuOZv"
      },
      "source": [
        "from sklearn import svm"
      ],
      "execution_count": null,
      "outputs": []
    },
    {
      "cell_type": "code",
      "metadata": {
        "colab": {
          "base_uri": "https://localhost:8080/"
        },
        "id": "HfO-VRTQuE_t",
        "outputId": "5da543f1-ade2-4e2f-bda9-3f9fe676b05f"
      },
      "source": [
        "start = time.time()\n",
        "# fit the model\n",
        "clf = svm.OneClassSVM(nu=0.1, kernel=\"rbf\", gamma='scale')\n",
        "clf.fit(train_features_set)\n",
        "print(time.time() - start)"
      ],
      "execution_count": null,
      "outputs": [
        {
          "output_type": "stream",
          "text": [
            "11.546738862991333\n"
          ],
          "name": "stdout"
        }
      ]
    },
    {
      "cell_type": "code",
      "metadata": {
        "id": "vPAfz_56MppZ"
      },
      "source": [
        "dataset_name = 'OCSVMcicids2017'"
      ],
      "execution_count": null,
      "outputs": []
    },
    {
      "cell_type": "markdown",
      "metadata": {
        "id": "kexCg_6QyJBr"
      },
      "source": [
        "#save the model "
      ]
    },
    {
      "cell_type": "code",
      "metadata": {
        "id": "uuLYuUVuxwm9",
        "colab": {
          "base_uri": "https://localhost:8080/"
        },
        "outputId": "97bd12fe-7e20-44d9-8f58-d57837c3c1ba"
      },
      "source": [
        "from sklearn.externals import joblib"
      ],
      "execution_count": null,
      "outputs": [
        {
          "output_type": "stream",
          "text": [
            "/usr/local/lib/python3.7/dist-packages/sklearn/externals/joblib/__init__.py:15: FutureWarning: sklearn.externals.joblib is deprecated in 0.21 and will be removed in 0.23. Please import this functionality directly from joblib, which can be installed with: pip install joblib. If this warning is raised when loading pickled models, you may need to re-serialize those models with scikit-learn 0.21+.\n",
            "  warnings.warn(msg, category=FutureWarning)\n"
          ],
          "name": "stderr"
        }
      ]
    },
    {
      "cell_type": "code",
      "metadata": {
        "id": "SDraK5vqxwvA",
        "colab": {
          "base_uri": "https://localhost:8080/"
        },
        "outputId": "a5958242-973d-45d0-ca39-5e55bb6e687d"
      },
      "source": [
        "joblib.dump(clf,\"/content/drive/MyDrive/cicids2017 dataset/%s.pkl\"%dataset_name)"
      ],
      "execution_count": null,
      "outputs": [
        {
          "output_type": "execute_result",
          "data": {
            "text/plain": [
              "['/content/drive/MyDrive/cicids2017 dataset/OCSVMcicids2017.pkl']"
            ]
          },
          "metadata": {
            "tags": []
          },
          "execution_count": 29
        }
      ]
    },
    {
      "cell_type": "markdown",
      "metadata": {
        "id": "ntAsF_rTMcS3"
      },
      "source": [
        "#Loading saved model"
      ]
    },
    {
      "cell_type": "code",
      "metadata": {
        "id": "lPxkNsZtManO"
      },
      "source": [
        "clf = joblib.load(\"/content/drive/MyDrive/cicids2017 dataset/%s.pkl\"%dataset_name)"
      ],
      "execution_count": null,
      "outputs": []
    },
    {
      "cell_type": "markdown",
      "metadata": {
        "id": "EMyZv7TkLybf"
      },
      "source": [
        "#Testing"
      ]
    },
    {
      "cell_type": "code",
      "metadata": {
        "id": "O82Ke8ETubUS"
      },
      "source": [
        "y_pred_train = clf.predict(train_features_set)\n",
        "y_pred_test = clf.predict(test_features_benign)\n",
        "y_pred_outliers = clf.predict(test_features_malic)\n",
        "n_error_train = y_pred_train[y_pred_train == -1].size\n",
        "n_error_test = y_pred_test[y_pred_test == -1].size\n",
        "n_error_outliers = y_pred_outliers[y_pred_outliers == 1].size"
      ],
      "execution_count": null,
      "outputs": []
    },
    {
      "cell_type": "markdown",
      "metadata": {
        "id": "GgAeuw9J21PW"
      },
      "source": [
        "#Results"
      ]
    },
    {
      "cell_type": "code",
      "metadata": {
        "id": "S-SLhXX5E394"
      },
      "source": [
        "y_test_all = np.append(np.ones(len(test_features_benign)),\n",
        "                   np.ones(len(test_features_malic))*-1)"
      ],
      "execution_count": null,
      "outputs": []
    },
    {
      "cell_type": "code",
      "metadata": {
        "id": "nQIdtGhHF1ec"
      },
      "source": [
        "y_pred_all = np.append(y_pred_test,y_pred_outliers)"
      ],
      "execution_count": null,
      "outputs": []
    },
    {
      "cell_type": "code",
      "metadata": {
        "colab": {
          "base_uri": "https://localhost:8080/"
        },
        "id": "KoAANHlH204C",
        "outputId": "85b75d95-6239-41ec-8815-1c8011b870f1"
      },
      "source": [
        "from sklearn.metrics import classification_report\n",
        "\n",
        "print(classification_report(y_test_all,y_pred_all))"
      ],
      "execution_count": null,
      "outputs": [
        {
          "output_type": "stream",
          "text": [
            "              precision    recall  f1-score   support\n",
            "\n",
            "        -1.0       0.79      0.39      0.52      5566\n",
            "         1.0       0.60      0.90      0.72      5566\n",
            "\n",
            "    accuracy                           0.64     11132\n",
            "   macro avg       0.69      0.64      0.62     11132\n",
            "weighted avg       0.69      0.64      0.62     11132\n",
            "\n"
          ],
          "name": "stdout"
        }
      ]
    },
    {
      "cell_type": "markdown",
      "metadata": {
        "id": "f0VEJ-XQWJzW"
      },
      "source": [
        "#AUC curves"
      ]
    },
    {
      "cell_type": "code",
      "metadata": {
        "colab": {
          "base_uri": "https://localhost:8080/",
          "height": 485
        },
        "id": "nfeNcdU9WMxR",
        "outputId": "9a7291ff-ba48-4fe8-b982-05a39bbbc914"
      },
      "source": [
        "from sklearn.metrics import roc_auc_score, roc_curve\n",
        "\n",
        "\n",
        "fpr, tpr, thresholds = roc_curve(y_test_all, y_pred_all)\n",
        "auc_score = roc_auc_score(y_test_all, y_pred_all)\n",
        "fig, ax1 = plt.subplots(1, 1, figsize = (8, 8))\n",
        "ax1.plot(fpr, tpr, 'b.-', label = 'ROC Curve (%2.2f)' %  auc_score)\n",
        "ax1.plot(fpr, fpr, 'k-', label = 'Random Guessing')\n",
        "ax1.legend();"
      ],
      "execution_count": null,
      "outputs": [
        {
          "output_type": "display_data",
          "data": {
            "image/png": "[encoded data removed]",
            "text/plain": [
              "<Figure size 576x576 with 1 Axes>"
            ]
          },
          "metadata": {
            "tags": [],
            "needs_background": "light"
          }
        }
      ]
    },
    {
      "cell_type": "markdown",
      "metadata": {
        "id": "aYIOsDSvxAe3"
      },
      "source": [
        "#Isolation Forest"
      ]
    },
    {
      "cell_type": "code",
      "metadata": {
        "id": "RsBh9S5gxCwY"
      },
      "source": [
        "from sklearn.ensemble import IsolationForest"
      ],
      "execution_count": null,
      "outputs": []
    },
    {
      "cell_type": "code",
      "metadata": {
        "colab": {
          "base_uri": "https://localhost:8080/"
        },
        "id": "gWOJqCY0h29y",
        "outputId": "bb1df563-4363-4646-9233-1e68f25ef23d"
      },
      "source": [
        "start = time.time()\n",
        "rng = np.random.RandomState(42)\n",
        "\n",
        "# fit the model\n",
        "clf = IsolationForest(behaviour='new', max_samples=1000,\n",
        "                      random_state=rng, contamination=0.01)\n",
        "clf.fit(train_features_set)\n",
        "print(time.time() - start)"
      ],
      "execution_count": null,
      "outputs": [
        {
          "output_type": "stream",
          "text": [
            "/usr/local/lib/python3.7/dist-packages/sklearn/ensemble/_iforest.py:248: FutureWarning: 'behaviour' is deprecated in 0.22 and will be removed in 0.24. You should not pass or set this parameter.\n",
            "  FutureWarning\n"
          ],
          "name": "stderr"
        },
        {
          "output_type": "stream",
          "text": [
            "1.3968632221221924\n"
          ],
          "name": "stdout"
        }
      ]
    },
    {
      "cell_type": "code",
      "metadata": {
        "id": "QlSLFVX8h6kw"
      },
      "source": [
        "y_pred_train = clf.predict(train_features_set)\n",
        "y_pred_test = clf.predict(test_features_benign)\n",
        "y_pred_outliers = clf.predict(test_features_malic)\n",
        "n_error_train = y_pred_train[y_pred_train == -1].size\n",
        "n_error_test = y_pred_test[y_pred_test == -1].size\n",
        "n_error_outliers = y_pred_outliers[y_pred_outliers == 1].size"
      ],
      "execution_count": null,
      "outputs": []
    },
    {
      "cell_type": "markdown",
      "metadata": {
        "id": "qfqH4GsciEaU"
      },
      "source": [
        "#Results"
      ]
    },
    {
      "cell_type": "code",
      "metadata": {
        "id": "nC6KH30diEaU"
      },
      "source": [
        "y_test_all = np.append(np.ones(len(test_features_benign)),\n",
        "                   np.ones(len(test_features_malic))*-1)"
      ],
      "execution_count": null,
      "outputs": []
    },
    {
      "cell_type": "code",
      "metadata": {
        "id": "4Eajcl39iEaU"
      },
      "source": [
        "y_pred_all = np.append(y_pred_test,y_pred_outliers)"
      ],
      "execution_count": null,
      "outputs": []
    },
    {
      "cell_type": "code",
      "metadata": {
        "colab": {
          "base_uri": "https://localhost:8080/"
        },
        "id": "OJAN837JiEaV",
        "outputId": "64f5c2e0-e30b-4d7e-ada1-578c05563159"
      },
      "source": [
        "#from sklearn.metrics import classification_report\n",
        "\n",
        "print(classification_report(y_test_all,y_pred_all))"
      ],
      "execution_count": null,
      "outputs": [
        {
          "output_type": "stream",
          "text": [
            "              precision    recall  f1-score   support\n",
            "\n",
            "        -1.0       0.96      0.25      0.40      5566\n",
            "         1.0       0.57      0.99      0.72      5566\n",
            "\n",
            "    accuracy                           0.62     11132\n",
            "   macro avg       0.77      0.62      0.56     11132\n",
            "weighted avg       0.77      0.62      0.56     11132\n",
            "\n"
          ],
          "name": "stdout"
        }
      ]
    },
    {
      "cell_type": "markdown",
      "metadata": {
        "id": "7g4TCou6iG5N"
      },
      "source": [
        "#AUC curves"
      ]
    },
    {
      "cell_type": "code",
      "metadata": {
        "colab": {
          "base_uri": "https://localhost:8080/",
          "height": 485
        },
        "id": "lGKrlys0iG5O",
        "outputId": "98585077-d0b6-4fe8-a2c1-1877d8f17d0c"
      },
      "source": [
        "#from sklearn.metrics import roc_auc_score, roc_curve\n",
        "\n",
        "fpr, tpr, thresholds = roc_curve(y_test_all, y_pred_all)\n",
        "auc_score = roc_auc_score(y_test_all, y_pred_all)\n",
        "fig, ax1 = plt.subplots(1, 1, figsize = (8, 8))\n",
        "ax1.plot(fpr, tpr, 'b.-', label = 'ROC Curve (%2.2f)' %  auc_score)\n",
        "ax1.plot(fpr, fpr, 'k-', label = 'Random Guessing')\n",
        "ax1.legend();"
      ],
      "execution_count": null,
      "outputs": [
        {
          "output_type": "display_data",
          "data": {
            "image/png": "[encoded data removed]",
            "text/plain": [
              "<Figure size 576x576 with 1 Axes>"
            ]
          },
          "metadata": {
            "tags": [],
            "needs_background": "light"
          }
        }
      ]
    }
  ]
}