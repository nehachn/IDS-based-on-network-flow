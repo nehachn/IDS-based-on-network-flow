{
  "nbformat": 4,
  "nbformat_minor": 0,
  "metadata": {
    "colab": {
      "name": "VAE.ipynb",
      "provenance": [],
      "collapsed_sections": [
        "kexCg_6QyJBr"
      ]
    },
    "kernelspec": {
      "name": "python3",
      "display_name": "Python 3"
    },
    "language_info": {
      "name": "python"
    },
    "accelerator": "GPU"
  },
  "cells": [
    {
      "cell_type": "markdown",
      "metadata": {
        "id": "g3WoFtiqKf2G"
      },
      "source": [
        "#Loading dataset"
      ]
    },
    {
      "cell_type": "code",
      "metadata": {
        "id": "lyob8NTW6XRC"
      },
      "source": [
        "# read & manipulate data\n",
        "import pandas as pd \n",
        "import numpy as np\n",
        "import tensorflow as tf\n",
        "from collections import Counter\n",
        "# visualisations\n",
        "import matplotlib.pyplot as plt\n",
        "import seaborn as sns\n",
        "sns.set(style='whitegrid', context='notebook')\n",
        "%matplotlib notebook"
      ],
      "execution_count": null,
      "outputs": []
    },
    {
      "cell_type": "code",
      "metadata": {
        "id": "23pCunA9Ksjz"
      },
      "source": [
        "# misc\n",
        "import random as rn\n",
        "\n",
        "# manual parameters\n",
        "RANDOM_SEED = 42"
      ],
      "execution_count": null,
      "outputs": []
    },
    {
      "cell_type": "markdown",
      "metadata": {
        "id": "h8W8Ff8SMO7g"
      },
      "source": [
        "#Train/test split"
      ]
    },
    {
      "cell_type": "code",
      "metadata": {
        "id": "25EXoLk_xgMO"
      },
      "source": [
        "df_ = pd.read_csv(\"/content/drive/MyDrive/cicids2017 dataset/all_data.csv\")"
      ],
      "execution_count": null,
      "outputs": []
    },
    {
      "cell_type": "code",
      "metadata": {
        "id": "X8WvxyIsMSS4",
        "colab": {
          "base_uri": "https://localhost:8080/"
        },
        "outputId": "7d5887f4-9508-4cb3-997b-9b06130d8bb8"
      },
      "source": [
        "attack = df_[df_.anomaly == 1]\n",
        "normal = df_[df_.anomaly == 0]\n",
        "attack = attack.drop('Label', axis=1)\n",
        "normal = normal.drop('Label', axis=1)\n",
        "print(f\"\"\"Shape of the datasets:\n",
        "    clean (rows, cols) = {normal.shape}\n",
        "    fraud (rows, cols) = {attack.shape}\"\"\")"
      ],
      "execution_count": null,
      "outputs": [
        {
          "output_type": "stream",
          "text": [
            "Shape of the datasets:\n",
            "    clean (rows, cols) = (2271320, 80)\n",
            "    fraud (rows, cols) = (556556, 80)\n"
          ],
          "name": "stdout"
        }
      ]
    },
    {
      "cell_type": "code",
      "metadata": {
        "id": "SyNMNhY2MVbp",
        "colab": {
          "base_uri": "https://localhost:8080/"
        },
        "outputId": "96e904a8-4bd6-41ab-952f-b4cda793158a"
      },
      "source": [
        "# shuffle our training set\n",
        "normal = normal.sample(frac=1).reset_index(drop=True)\n",
        "\n",
        "#TRAINING_SAMPLE= math.ceil(normal.shape[0]*(20/100))\n",
        "TRAINING_SAMPLE = normal.shape[0] - attack.shape[0]\n",
        "\n",
        "print(f\"\"\"training sample size: {TRAINING_SAMPLE} and normal case size: {normal.shape[0]} left out normals: {normal.shape[0]-TRAINING_SAMPLE}\"\"\")\n",
        "\n",
        "# training set: exlusively normal samples\n",
        "X_train_all = normal.iloc[:TRAINING_SAMPLE].drop('anomaly', axis=1)\n",
        "\n",
        "# testing  set: the remaining normal + all the attack samples\n",
        "X_test = normal.iloc[TRAINING_SAMPLE:].append(attack).sample(frac=1)\n",
        "\n",
        "print(f\"\"\"Our testing set is composed as follows:\n",
        "{X_test.anomaly.value_counts()}\"\"\")\n",
        "print(f\"\"\"Class ratio in testing set is composed as follows:\n",
        "{X_test.anomaly.value_counts(normalize=True)*100}\"\"\")"
      ],
      "execution_count": null,
      "outputs": [
        {
          "output_type": "stream",
          "text": [
            "training sample size: 1714764 and normal case size: 2271320 left out normals: 556556\n",
            "Our testing set is composed as follows:\n",
            "1    556556\n",
            "0    556556\n",
            "Name: anomaly, dtype: int64\n",
            "Class ratio in testing set is composed as follows:\n",
            "1    50.0\n",
            "0    50.0\n",
            "Name: anomaly, dtype: float64\n"
          ],
          "name": "stdout"
        }
      ]
    },
    {
      "cell_type": "code",
      "metadata": {
        "id": "QzbEbALbMjau"
      },
      "source": [
        "from sklearn.model_selection import train_test_split\n",
        "RANDOM_SEED = 42\n",
        "VALIDATE_SIZE = 0.3\n",
        "\n",
        "# train // validate - no labels since they're all clean anyway\n",
        "X_train, X_validate = train_test_split(X_train_all, \n",
        "                                       test_size=VALIDATE_SIZE, \n",
        "                                       random_state=RANDOM_SEED)"
      ],
      "execution_count": null,
      "outputs": []
    },
    {
      "cell_type": "code",
      "metadata": {
        "id": "lKMEJQDbEYXq"
      },
      "source": [
        "# manually splitting the labels from the test df\n",
        "X_test, y_test = X_test.drop('anomaly', axis=1).values, X_test.anomaly.values"
      ],
      "execution_count": null,
      "outputs": []
    },
    {
      "cell_type": "code",
      "metadata": {
        "id": "zn7OmsEaNM2A",
        "colab": {
          "base_uri": "https://localhost:8080/"
        },
        "outputId": "d94ac03f-0e76-4174-ab16-570422c36d8c"
      },
      "source": [
        "print(f\"\"\"Shape of the datasets:\n",
        "    training (rows, cols) = {X_train.shape}\n",
        "    validate (rows, cols) = {X_validate.shape}\n",
        "    holdout  (rows, cols) = {X_test.shape}\"\"\")"
      ],
      "execution_count": null,
      "outputs": [
        {
          "output_type": "stream",
          "text": [
            "Shape of the datasets:\n",
            "    training (rows, cols) = (1200334, 79)\n",
            "    validate (rows, cols) = (514430, 79)\n",
            "    holdout  (rows, cols) = (1113112, 79)\n"
          ],
          "name": "stdout"
        }
      ]
    },
    {
      "cell_type": "markdown",
      "metadata": {
        "id": "EMZeTo41ESMF"
      },
      "source": [
        "#Normalising & Standardising"
      ]
    },
    {
      "cell_type": "code",
      "metadata": {
        "id": "7tqTD4PsEdnQ"
      },
      "source": [
        "from sklearn.preprocessing import Normalizer, MinMaxScaler\n",
        "from sklearn.pipeline import Pipeline\n",
        "\n",
        "# configure our pipeline\n",
        "pipeline = Pipeline([('normalizer', Normalizer()),\n",
        "                     ('scaler', MinMaxScaler())])"
      ],
      "execution_count": null,
      "outputs": []
    },
    {
      "cell_type": "code",
      "metadata": {
        "id": "5f9a-t4QEjYq"
      },
      "source": [
        "# get normalization parameters by fitting to the training data\n",
        "pipeline.fit(X_train);"
      ],
      "execution_count": null,
      "outputs": []
    },
    {
      "cell_type": "code",
      "metadata": {
        "id": "pyF8-1aWEnAk"
      },
      "source": [
        "# transform the training and validation data with these parameters\n",
        "X_train_transformed = pipeline.transform(X_train)\n",
        "X_validate_transformed = pipeline.transform(X_validate)"
      ],
      "execution_count": null,
      "outputs": []
    },
    {
      "cell_type": "markdown",
      "metadata": {
        "id": "zGhqM2o7E51r"
      },
      "source": [
        "#Training the Variational autoencoder"
      ]
    },
    {
      "cell_type": "code",
      "metadata": {
        "id": "XtUgwOCIzzlq"
      },
      "source": [
        "import tensorflow as tf\n",
        "from tensorflow import keras\n",
        "from tensorflow.keras import layers\n",
        "\n",
        "from keras import regularizers\n",
        "from tensorflow.keras import layers\n",
        "from tensorflow.keras import initializers"
      ],
      "execution_count": null,
      "outputs": []
    },
    {
      "cell_type": "code",
      "metadata": {
        "id": "FTxb5T4NZuBz"
      },
      "source": [
        "# data dimensions // hyperparameters \n",
        "input_dim = X_train.shape[1]\n",
        "\n",
        "BATCH_SIZE = 8192\n",
        "EPOCHS = 100"
      ],
      "execution_count": null,
      "outputs": []
    },
    {
      "cell_type": "code",
      "metadata": {
        "id": "YEpFP9FfS1P4"
      },
      "source": [
        "class Sampling(layers.Layer):\n",
        "    \"\"\"Uses (z_mean, z_log_var) to sample z, the vector encoding a point.\"\"\"\n",
        "\n",
        "    def call(self, inputs):\n",
        "        z_mean, z_log_var = inputs\n",
        "        batch = tf.shape(z_mean)[0]\n",
        "        dim = tf.shape(z_mean)[1]\n",
        "        epsilon = tf.keras.backend.random_normal(shape=(batch, dim))\n",
        "        return z_mean + tf.exp(0.5 * z_log_var) * epsilon\n"
      ],
      "execution_count": null,
      "outputs": []
    },
    {
      "cell_type": "code",
      "metadata": {
        "id": "held2x6STfQN",
        "colab": {
          "base_uri": "https://localhost:8080/"
        },
        "outputId": "43a4fd66-b1f0-4c57-9dbd-02c220bd04cd"
      },
      "source": [
        "latent_dim = 64\n",
        "\n",
        "encoder_inputs = keras.Input(shape=(input_dim,))\n",
        "x = layers.Dense(512, activation=\"tanh\")(encoder_inputs)\n",
        "x = layers.Dense(512, activation=\"tanh\")(x)\n",
        "x = layers.Dense(256,  activation=\"tanh\")(x)\n",
        "\n",
        "\n",
        "z_mean = layers.Dense(latent_dim, name=\"z_mean\")(x)\n",
        "z_log_var = layers.Dense(latent_dim, name=\"z_log_var\")(x)\n",
        "z = Sampling()([z_mean, z_log_var])\n",
        "encoder = keras.Model(encoder_inputs, [z_mean, z_log_var, z], name=\"encoder\")\n",
        "encoder.summary()\n"
      ],
      "execution_count": null,
      "outputs": [
        {
          "output_type": "stream",
          "text": [
            "Model: \"encoder\"\n",
            "__________________________________________________________________________________________________\n",
            "Layer (type)                    Output Shape         Param #     Connected to                     \n",
            "==================================================================================================\n",
            "input_1 (InputLayer)            [(None, 79)]         0                                            \n",
            "__________________________________________________________________________________________________\n",
            "dense (Dense)                   (None, 512)          40960       input_1[0][0]                    \n",
            "__________________________________________________________________________________________________\n",
            "dense_1 (Dense)                 (None, 512)          262656      dense[0][0]                      \n",
            "__________________________________________________________________________________________________\n",
            "dense_2 (Dense)                 (None, 256)          131328      dense_1[0][0]                    \n",
            "__________________________________________________________________________________________________\n",
            "z_mean (Dense)                  (None, 64)           16448       dense_2[0][0]                    \n",
            "__________________________________________________________________________________________________\n",
            "z_log_var (Dense)               (None, 64)           16448       dense_2[0][0]                    \n",
            "__________________________________________________________________________________________________\n",
            "sampling (Sampling)             (None, 64)           0           z_mean[0][0]                     \n",
            "                                                                 z_log_var[0][0]                  \n",
            "==================================================================================================\n",
            "Total params: 467,840\n",
            "Trainable params: 467,840\n",
            "Non-trainable params: 0\n",
            "__________________________________________________________________________________________________\n"
          ],
          "name": "stdout"
        }
      ]
    },
    {
      "cell_type": "code",
      "metadata": {
        "colab": {
          "base_uri": "https://localhost:8080/"
        },
        "id": "XNWtv3n1LgfA",
        "outputId": "2728e9b9-1772-4c30-a1e5-d56beb8dfcfd"
      },
      "source": [
        "latent_inputs = keras.Input(shape=(latent_dim,))\n",
        "x = layers.Dense(256, activation=\"tanh\")(latent_inputs)\n",
        "x = layers.Dense(512, activation=\"tanh\")(x)\n",
        "x = layers.Dense(512, activation=\"tanh\")(x)\n",
        "decoder_outputs = layers.Dense(input_dim, activation= \"tanh\")(x)\n",
        "decoder = keras.Model(latent_inputs, decoder_outputs, name=\"decoder\")\n",
        "decoder.summary()"
      ],
      "execution_count": null,
      "outputs": [
        {
          "output_type": "stream",
          "text": [
            "Model: \"decoder\"\n",
            "_________________________________________________________________\n",
            "Layer (type)                 Output Shape              Param #   \n",
            "=================================================================\n",
            "input_2 (InputLayer)         [(None, 64)]              0         \n",
            "_________________________________________________________________\n",
            "dense_3 (Dense)              (None, 256)               16640     \n",
            "_________________________________________________________________\n",
            "dense_4 (Dense)              (None, 512)               131584    \n",
            "_________________________________________________________________\n",
            "dense_5 (Dense)              (None, 512)               262656    \n",
            "_________________________________________________________________\n",
            "dense_6 (Dense)              (None, 79)                40527     \n",
            "=================================================================\n",
            "Total params: 451,407\n",
            "Trainable params: 451,407\n",
            "Non-trainable params: 0\n",
            "_________________________________________________________________\n"
          ],
          "name": "stdout"
        }
      ]
    },
    {
      "cell_type": "markdown",
      "metadata": {
        "id": "YBpUFWRGM5om"
      },
      "source": [
        "Define VAE as model with a custom train_step"
      ]
    },
    {
      "cell_type": "code",
      "metadata": {
        "id": "BAw-BoDDMzGS"
      },
      "source": [
        "class VAE(keras.Model):\n",
        "    def __init__(self, encoder, decoder, **kwargs):\n",
        "        super(VAE, self).__init__(**kwargs)\n",
        "        self.encoder = encoder\n",
        "        self.decoder = decoder\n",
        "        self.total_loss_tracker = keras.metrics.Mean(name=\"total_loss\")\n",
        "        self.reconstruction_loss_tracker = keras.metrics.Mean(\n",
        "            name=\"reconstruction_loss\"\n",
        "        )\n",
        "        self.kl_loss_tracker = keras.metrics.Mean(name=\"kl_loss\")\n",
        "        self.built = True\n",
        "\n",
        "    @property\n",
        "    def metrics(self):\n",
        "        return [\n",
        "            self.total_loss_tracker,\n",
        "            self.reconstruction_loss_tracker,\n",
        "            self.kl_loss_tracker,\n",
        "        ]\n",
        "\n",
        "    def train_step(self, data):\n",
        "        with tf.GradientTape() as tape:\n",
        "            z_mean, z_log_var, z = self.encoder(data)\n",
        "            reconstruction = self.decoder(z)\n",
        "            reconstruction_loss = tf.reduce_mean(\n",
        "                tf.reduce_sum(\n",
        "                    keras.losses.binary_crossentropy(data, reconstruction))\n",
        "            )\n",
        "            kl_loss = -0.5 * (1 + z_log_var - tf.square(z_mean) - tf.exp(z_log_var))\n",
        "            kl_loss = tf.reduce_mean(tf.reduce_sum(kl_loss, axis=1))\n",
        "            total_loss = reconstruction_loss + kl_loss\n",
        "        grads = tape.gradient(total_loss, self.trainable_weights)\n",
        "        self.optimizer.apply_gradients(zip(grads, self.trainable_weights))\n",
        "        self.total_loss_tracker.update_state(total_loss)\n",
        "        self.reconstruction_loss_tracker.update_state(reconstruction_loss)\n",
        "        self.kl_loss_tracker.update_state(kl_loss)\n",
        "        return {\n",
        "            \"loss\": self.total_loss_tracker.result(),\n",
        "            \"reconstruction_loss\": self.reconstruction_loss_tracker.result(),\n",
        "            \"kl_loss\": self.kl_loss_tracker.result(),\n",
        "        }\n"
      ],
      "execution_count": null,
      "outputs": []
    },
    {
      "cell_type": "markdown",
      "metadata": {
        "id": "kpT5LtJjNlgM"
      },
      "source": [
        "Train the VAE"
      ]
    },
    {
      "cell_type": "code",
      "metadata": {
        "id": "db8Dq8apNoAr"
      },
      "source": [
        "vae = VAE(encoder, decoder)\n",
        "vae.compile(optimizer=keras.optimizers.Adam())"
      ],
      "execution_count": null,
      "outputs": []
    },
    {
      "cell_type": "code",
      "metadata": {
        "colab": {
          "base_uri": "https://localhost:8080/"
        },
        "id": "7b6u-QA3a3Jo",
        "outputId": "f5378065-e660-4537-b91e-25b5f08eecd5"
      },
      "source": [
        "history = vae.fit(\n",
        "    X_train_transformed, \n",
        "    shuffle=True,\n",
        "    epochs=EPOCHS,\n",
        "    batch_size=BATCH_SIZE,\n",
        ");"
      ],
      "execution_count": null,
      "outputs": [
        {
          "output_type": "stream",
          "text": [
            "Epoch 1/100\n",
            "147/147 [==============================] - 4s 18ms/step - loss: 1558.7266 - reconstruction_loss: 1028.7924 - kl_loss: 37.8914\n",
            "Epoch 2/100\n",
            "147/147 [==============================] - 3s 18ms/step - loss: 765.5536 - reconstruction_loss: 727.0952 - kl_loss: 25.1740\n",
            "Epoch 3/100\n",
            "147/147 [==============================] - 3s 18ms/step - loss: 730.5480 - reconstruction_loss: 703.4915 - kl_loss: 19.8685\n",
            "Epoch 4/100\n",
            "147/147 [==============================] - 3s 18ms/step - loss: 714.7534 - reconstruction_loss: 692.9023 - kl_loss: 16.1024\n",
            "Epoch 5/100\n",
            "147/147 [==============================] - 3s 18ms/step - loss: 705.4604 - reconstruction_loss: 687.2036 - kl_loss: 14.1898\n",
            "Epoch 6/100\n",
            "147/147 [==============================] - 3s 18ms/step - loss: 700.2109 - reconstruction_loss: 683.5845 - kl_loss: 13.0596\n",
            "Epoch 7/100\n",
            "147/147 [==============================] - 3s 18ms/step - loss: 696.4513 - reconstruction_loss: 681.0989 - kl_loss: 12.4960\n",
            "Epoch 8/100\n",
            "147/147 [==============================] - 3s 19ms/step - loss: 694.7375 - reconstruction_loss: 679.3649 - kl_loss: 12.1485\n",
            "Epoch 9/100\n",
            "147/147 [==============================] - 3s 18ms/step - loss: 693.2212 - reconstruction_loss: 678.0829 - kl_loss: 11.9271\n",
            "Epoch 10/100\n",
            "147/147 [==============================] - 3s 18ms/step - loss: 691.0045 - reconstruction_loss: 677.0225 - kl_loss: 11.7169\n",
            "Epoch 11/100\n",
            "147/147 [==============================] - 3s 19ms/step - loss: 690.1940 - reconstruction_loss: 676.2695 - kl_loss: 11.5453\n",
            "Epoch 12/100\n",
            "147/147 [==============================] - 3s 19ms/step - loss: 688.8142 - reconstruction_loss: 675.5649 - kl_loss: 11.3975\n",
            "Epoch 13/100\n",
            "147/147 [==============================] - 3s 19ms/step - loss: 688.9319 - reconstruction_loss: 675.0764 - kl_loss: 11.2811\n",
            "Epoch 14/100\n",
            "147/147 [==============================] - 3s 19ms/step - loss: 688.3059 - reconstruction_loss: 674.5739 - kl_loss: 11.1424\n",
            "Epoch 15/100\n",
            "147/147 [==============================] - 3s 19ms/step - loss: 687.5647 - reconstruction_loss: 674.1281 - kl_loss: 10.9954\n",
            "Epoch 16/100\n",
            "147/147 [==============================] - 3s 19ms/step - loss: 687.3025 - reconstruction_loss: 673.8781 - kl_loss: 10.9040\n",
            "Epoch 17/100\n",
            "147/147 [==============================] - 3s 19ms/step - loss: 686.6079 - reconstruction_loss: 673.5524 - kl_loss: 10.7687\n",
            "Epoch 18/100\n",
            "147/147 [==============================] - 3s 19ms/step - loss: 686.3129 - reconstruction_loss: 673.0950 - kl_loss: 10.6349\n",
            "Epoch 19/100\n",
            "147/147 [==============================] - 3s 19ms/step - loss: 685.0993 - reconstruction_loss: 672.8273 - kl_loss: 10.5218\n",
            "Epoch 20/100\n",
            "147/147 [==============================] - 3s 19ms/step - loss: 685.1110 - reconstruction_loss: 672.6001 - kl_loss: 10.4217\n",
            "Epoch 21/100\n",
            "147/147 [==============================] - 3s 19ms/step - loss: 684.7305 - reconstruction_loss: 672.4130 - kl_loss: 10.3291\n",
            "Epoch 22/100\n",
            "147/147 [==============================] - 3s 19ms/step - loss: 685.1389 - reconstruction_loss: 672.2048 - kl_loss: 10.2458\n",
            "Epoch 23/100\n",
            "147/147 [==============================] - 3s 19ms/step - loss: 684.7402 - reconstruction_loss: 671.9529 - kl_loss: 10.1653\n",
            "Epoch 24/100\n",
            "147/147 [==============================] - 3s 19ms/step - loss: 684.7675 - reconstruction_loss: 671.8063 - kl_loss: 10.1232\n",
            "Epoch 25/100\n",
            "147/147 [==============================] - 3s 19ms/step - loss: 683.8730 - reconstruction_loss: 671.6157 - kl_loss: 10.0519\n",
            "Epoch 26/100\n",
            "147/147 [==============================] - 3s 19ms/step - loss: 684.2685 - reconstruction_loss: 671.5878 - kl_loss: 10.0118\n",
            "Epoch 27/100\n",
            "147/147 [==============================] - 3s 19ms/step - loss: 682.5201 - reconstruction_loss: 671.3074 - kl_loss: 9.9527\n",
            "Epoch 28/100\n",
            "147/147 [==============================] - 3s 19ms/step - loss: 745.9818 - reconstruction_loss: 694.5072 - kl_loss: 18.1622\n",
            "Epoch 29/100\n",
            "147/147 [==============================] - 3s 19ms/step - loss: 689.6091 - reconstruction_loss: 675.0578 - kl_loss: 11.2372\n",
            "Epoch 30/100\n",
            "147/147 [==============================] - 3s 19ms/step - loss: 686.7873 - reconstruction_loss: 673.3880 - kl_loss: 10.7478\n",
            "Epoch 31/100\n",
            "147/147 [==============================] - 3s 19ms/step - loss: 685.6792 - reconstruction_loss: 672.7427 - kl_loss: 10.4927\n",
            "Epoch 32/100\n",
            "147/147 [==============================] - 3s 19ms/step - loss: 685.2185 - reconstruction_loss: 672.3351 - kl_loss: 10.3337\n",
            "Epoch 33/100\n",
            "147/147 [==============================] - 3s 19ms/step - loss: 684.5700 - reconstruction_loss: 671.9894 - kl_loss: 10.2052\n",
            "Epoch 34/100\n",
            "147/147 [==============================] - 3s 19ms/step - loss: 684.5659 - reconstruction_loss: 671.7872 - kl_loss: 10.1155\n",
            "Epoch 35/100\n",
            "147/147 [==============================] - 3s 19ms/step - loss: 683.2705 - reconstruction_loss: 671.5508 - kl_loss: 10.0296\n",
            "Epoch 36/100\n",
            "147/147 [==============================] - 3s 19ms/step - loss: 684.0542 - reconstruction_loss: 671.4088 - kl_loss: 9.9637\n",
            "Epoch 37/100\n",
            "147/147 [==============================] - 3s 19ms/step - loss: 683.8317 - reconstruction_loss: 671.2723 - kl_loss: 9.9033\n",
            "Epoch 38/100\n",
            "147/147 [==============================] - 3s 19ms/step - loss: 682.6720 - reconstruction_loss: 671.0874 - kl_loss: 9.8373\n",
            "Epoch 39/100\n",
            "147/147 [==============================] - 3s 19ms/step - loss: 682.9925 - reconstruction_loss: 671.0532 - kl_loss: 9.7959\n",
            "Epoch 40/100\n",
            "147/147 [==============================] - 3s 19ms/step - loss: 682.7893 - reconstruction_loss: 670.8624 - kl_loss: 9.7232\n",
            "Epoch 41/100\n",
            "147/147 [==============================] - 3s 19ms/step - loss: 728.2435 - reconstruction_loss: 688.1417 - kl_loss: 15.4292\n",
            "Epoch 42/100\n",
            "147/147 [==============================] - 3s 19ms/step - loss: 685.7504 - reconstruction_loss: 672.7493 - kl_loss: 10.5936\n",
            "Epoch 43/100\n",
            "147/147 [==============================] - 3s 19ms/step - loss: 684.2929 - reconstruction_loss: 671.7898 - kl_loss: 10.1787\n",
            "Epoch 44/100\n",
            "147/147 [==============================] - 3s 19ms/step - loss: 683.5184 - reconstruction_loss: 671.3538 - kl_loss: 10.0008\n",
            "Epoch 45/100\n",
            "147/147 [==============================] - 3s 19ms/step - loss: 683.1831 - reconstruction_loss: 671.0923 - kl_loss: 9.8938\n",
            "Epoch 46/100\n",
            "147/147 [==============================] - 3s 19ms/step - loss: 682.9822 - reconstruction_loss: 670.9273 - kl_loss: 9.8197\n",
            "Epoch 47/100\n",
            "147/147 [==============================] - 3s 19ms/step - loss: 682.9738 - reconstruction_loss: 670.7545 - kl_loss: 9.7498\n",
            "Epoch 48/100\n",
            "147/147 [==============================] - 3s 19ms/step - loss: 683.9960 - reconstruction_loss: 670.8259 - kl_loss: 9.7140\n",
            "Epoch 49/100\n",
            "147/147 [==============================] - 3s 19ms/step - loss: 682.0830 - reconstruction_loss: 670.5473 - kl_loss: 9.6457\n",
            "Epoch 50/100\n",
            "147/147 [==============================] - 3s 19ms/step - loss: 681.6920 - reconstruction_loss: 670.4651 - kl_loss: 9.6144\n",
            "Epoch 51/100\n",
            "147/147 [==============================] - 3s 19ms/step - loss: 682.8896 - reconstruction_loss: 670.3945 - kl_loss: 9.5624\n",
            "Epoch 52/100\n",
            "147/147 [==============================] - 3s 19ms/step - loss: 681.9545 - reconstruction_loss: 670.3665 - kl_loss: 9.5442\n",
            "Epoch 53/100\n",
            "147/147 [==============================] - 3s 19ms/step - loss: 682.3508 - reconstruction_loss: 670.2431 - kl_loss: 9.4954\n",
            "Epoch 54/100\n",
            "147/147 [==============================] - 3s 19ms/step - loss: 681.1578 - reconstruction_loss: 670.1770 - kl_loss: 9.4728\n",
            "Epoch 55/100\n",
            "147/147 [==============================] - 3s 19ms/step - loss: 683.4874 - reconstruction_loss: 670.4760 - kl_loss: 9.4822\n",
            "Epoch 56/100\n",
            "147/147 [==============================] - 3s 19ms/step - loss: 681.4679 - reconstruction_loss: 670.0502 - kl_loss: 9.4081\n",
            "Epoch 57/100\n",
            "147/147 [==============================] - 3s 19ms/step - loss: 680.8926 - reconstruction_loss: 670.0270 - kl_loss: 9.3975\n",
            "Epoch 58/100\n",
            "147/147 [==============================] - 3s 19ms/step - loss: 681.7167 - reconstruction_loss: 670.0037 - kl_loss: 9.3639\n",
            "Epoch 59/100\n",
            "147/147 [==============================] - 3s 19ms/step - loss: 681.6993 - reconstruction_loss: 669.9550 - kl_loss: 9.3368\n",
            "Epoch 60/100\n",
            "147/147 [==============================] - 3s 19ms/step - loss: 681.2541 - reconstruction_loss: 669.9455 - kl_loss: 9.3204\n",
            "Epoch 61/100\n",
            "147/147 [==============================] - 3s 19ms/step - loss: 681.6729 - reconstruction_loss: 669.8860 - kl_loss: 9.2926\n",
            "Epoch 62/100\n",
            "147/147 [==============================] - 3s 19ms/step - loss: 681.1882 - reconstruction_loss: 669.8026 - kl_loss: 9.2615\n",
            "Epoch 63/100\n",
            "147/147 [==============================] - 3s 19ms/step - loss: 681.8442 - reconstruction_loss: 669.9617 - kl_loss: 9.2709\n",
            "Epoch 64/100\n",
            "147/147 [==============================] - 3s 19ms/step - loss: 682.2015 - reconstruction_loss: 669.7092 - kl_loss: 9.2236\n",
            "Epoch 65/100\n",
            "147/147 [==============================] - 3s 19ms/step - loss: 681.2932 - reconstruction_loss: 669.7173 - kl_loss: 9.2298\n",
            "Epoch 66/100\n",
            "147/147 [==============================] - 3s 19ms/step - loss: 680.8627 - reconstruction_loss: 669.6492 - kl_loss: 9.1855\n",
            "Epoch 67/100\n",
            "147/147 [==============================] - 3s 19ms/step - loss: 733.5012 - reconstruction_loss: 691.8229 - kl_loss: 16.8907\n",
            "Epoch 68/100\n",
            "147/147 [==============================] - 3s 19ms/step - loss: 688.1650 - reconstruction_loss: 673.5939 - kl_loss: 11.1338\n",
            "Epoch 69/100\n",
            "147/147 [==============================] - 3s 19ms/step - loss: 685.5763 - reconstruction_loss: 672.1425 - kl_loss: 10.4301\n",
            "Epoch 70/100\n",
            "147/147 [==============================] - 3s 19ms/step - loss: 684.0097 - reconstruction_loss: 671.5066 - kl_loss: 10.0803\n",
            "Epoch 71/100\n",
            "147/147 [==============================] - 3s 19ms/step - loss: 683.6509 - reconstruction_loss: 671.1421 - kl_loss: 9.8626\n",
            "Epoch 72/100\n",
            "147/147 [==============================] - 3s 19ms/step - loss: 683.1753 - reconstruction_loss: 670.7513 - kl_loss: 9.7036\n",
            "Epoch 73/100\n",
            "147/147 [==============================] - 3s 19ms/step - loss: 682.9954 - reconstruction_loss: 670.7240 - kl_loss: 9.6219\n",
            "Epoch 74/100\n",
            "147/147 [==============================] - 3s 19ms/step - loss: 682.3054 - reconstruction_loss: 670.3753 - kl_loss: 9.5064\n",
            "Epoch 75/100\n",
            "147/147 [==============================] - 3s 19ms/step - loss: 681.5205 - reconstruction_loss: 670.2999 - kl_loss: 9.4399\n",
            "Epoch 76/100\n",
            "147/147 [==============================] - 3s 19ms/step - loss: 681.4108 - reconstruction_loss: 670.1798 - kl_loss: 9.3861\n",
            "Epoch 77/100\n",
            "147/147 [==============================] - 3s 19ms/step - loss: 681.8022 - reconstruction_loss: 670.1016 - kl_loss: 9.3414\n",
            "Epoch 78/100\n",
            "147/147 [==============================] - 3s 19ms/step - loss: 682.1547 - reconstruction_loss: 669.9840 - kl_loss: 9.3095\n",
            "Epoch 79/100\n",
            "147/147 [==============================] - 3s 19ms/step - loss: 681.6527 - reconstruction_loss: 669.9878 - kl_loss: 9.2691\n",
            "Epoch 80/100\n",
            "147/147 [==============================] - 3s 19ms/step - loss: 682.1506 - reconstruction_loss: 669.8806 - kl_loss: 9.2480\n",
            "Epoch 81/100\n",
            "147/147 [==============================] - 3s 19ms/step - loss: 682.1973 - reconstruction_loss: 669.9297 - kl_loss: 9.2338\n",
            "Epoch 82/100\n",
            "147/147 [==============================] - 3s 19ms/step - loss: 681.8955 - reconstruction_loss: 669.7871 - kl_loss: 9.1993\n",
            "Epoch 83/100\n",
            "147/147 [==============================] - 3s 19ms/step - loss: 681.4129 - reconstruction_loss: 669.7014 - kl_loss: 9.1762\n",
            "Epoch 84/100\n",
            "147/147 [==============================] - 3s 19ms/step - loss: 681.1531 - reconstruction_loss: 669.6873 - kl_loss: 9.1601\n",
            "Epoch 85/100\n",
            "147/147 [==============================] - 3s 19ms/step - loss: 681.0662 - reconstruction_loss: 669.5984 - kl_loss: 9.1330\n",
            "Epoch 86/100\n",
            "147/147 [==============================] - 3s 19ms/step - loss: 681.4709 - reconstruction_loss: 669.6553 - kl_loss: 9.1388\n",
            "Epoch 87/100\n",
            "147/147 [==============================] - 3s 19ms/step - loss: 681.3889 - reconstruction_loss: 669.5500 - kl_loss: 9.1042\n",
            "Epoch 88/100\n",
            "147/147 [==============================] - 3s 19ms/step - loss: 680.9457 - reconstruction_loss: 669.5456 - kl_loss: 9.0938\n",
            "Epoch 89/100\n",
            "147/147 [==============================] - 3s 19ms/step - loss: 680.9802 - reconstruction_loss: 669.4618 - kl_loss: 9.0640\n",
            "Epoch 90/100\n",
            "147/147 [==============================] - 3s 19ms/step - loss: 681.3095 - reconstruction_loss: 669.5272 - kl_loss: 9.0552\n",
            "Epoch 91/100\n",
            "147/147 [==============================] - 3s 19ms/step - loss: 680.0328 - reconstruction_loss: 669.4669 - kl_loss: 9.0588\n",
            "Epoch 92/100\n",
            "147/147 [==============================] - 3s 19ms/step - loss: 681.1221 - reconstruction_loss: 669.4142 - kl_loss: 9.0282\n",
            "Epoch 93/100\n",
            "147/147 [==============================] - 3s 19ms/step - loss: 679.9902 - reconstruction_loss: 669.3778 - kl_loss: 9.0200\n",
            "Epoch 94/100\n",
            "147/147 [==============================] - 3s 19ms/step - loss: 680.2598 - reconstruction_loss: 669.3463 - kl_loss: 9.0128\n",
            "Epoch 95/100\n",
            "147/147 [==============================] - 3s 19ms/step - loss: 682.7737 - reconstruction_loss: 669.9615 - kl_loss: 9.1460\n",
            "Epoch 96/100\n",
            "147/147 [==============================] - 3s 19ms/step - loss: 680.5060 - reconstruction_loss: 669.2394 - kl_loss: 8.9923\n",
            "Epoch 97/100\n",
            "147/147 [==============================] - 3s 19ms/step - loss: 681.4830 - reconstruction_loss: 669.2588 - kl_loss: 8.9889\n",
            "Epoch 98/100\n",
            "147/147 [==============================] - 3s 19ms/step - loss: 680.6732 - reconstruction_loss: 669.2711 - kl_loss: 8.9690\n",
            "Epoch 99/100\n",
            "147/147 [==============================] - 3s 19ms/step - loss: 680.0577 - reconstruction_loss: 669.2388 - kl_loss: 8.9738\n",
            "Epoch 100/100\n",
            "147/147 [==============================] - 3s 19ms/step - loss: 681.1978 - reconstruction_loss: 669.3100 - kl_loss: 8.9808\n"
          ],
          "name": "stdout"
        }
      ]
    },
    {
      "cell_type": "markdown",
      "metadata": {
        "id": "kexCg_6QyJBr"
      },
      "source": [
        "#Save the model the model weitghts\n",
        "\n"
      ]
    },
    {
      "cell_type": "code",
      "metadata": {
        "id": "gGUlszidielq"
      },
      "source": [
        "vae.save_weights('/content/drive/MyDrive/cicids2017 dataset/vae_tanh,tanh+softmax,adam,512,512,256,64_EPHOCHES_100_b8192.h5')"
      ],
      "execution_count": null,
      "outputs": []
    },
    {
      "cell_type": "markdown",
      "metadata": {
        "id": "qMIGIAc3yNWL"
      },
      "source": [
        "#Load the model weights\n",
        "run upto vae compile then :\n",
        "\n",
        "      first add structure of vae to new_model \n",
        "      then add saved model weights into the new_model"
      ]
    },
    {
      "cell_type": "code",
      "metadata": {
        "id": "dvmHmcbWitdq"
      },
      "source": [
        "# Recreate the exact same model, including its weights and the optimizer\n",
        "vae.load_weights('/content/drive/MyDrive/cicids2017 dataset/vae_tanh,tanh+softmax,adam,512,512,256,64_EPHOCHES_100_b8192.h5')"
      ],
      "execution_count": null,
      "outputs": []
    },
    {
      "cell_type": "code",
      "metadata": {
        "colab": {
          "base_uri": "https://localhost:8080/"
        },
        "id": "VwNMV7PYw7f0",
        "outputId": "9029e6b3-8980-4b8f-df7a-63ce7916fc22"
      },
      "source": [
        "vae.summary()"
      ],
      "execution_count": null,
      "outputs": [
        {
          "output_type": "stream",
          "text": [
            "Model: \"vae\"\n",
            "_________________________________________________________________\n",
            "Layer (type)                 Output Shape              Param #   \n",
            "=================================================================\n",
            "encoder (Functional)         [(None, 64), (None, 64),  467840    \n",
            "_________________________________________________________________\n",
            "decoder (Functional)         (None, 79)                451407    \n",
            "=================================================================\n",
            "Total params: 919,253\n",
            "Trainable params: 919,247\n",
            "Non-trainable params: 6\n",
            "_________________________________________________________________\n"
          ],
          "name": "stdout"
        }
      ]
    },
    {
      "cell_type": "markdown",
      "metadata": {
        "id": "GqVbbnZsF5rV"
      },
      "source": [
        "#Testing"
      ]
    },
    {
      "cell_type": "code",
      "metadata": {
        "id": "uJ1L8WeWLczQ"
      },
      "source": [
        "# transform the test set with the pipeline fitted to the training set\n",
        "X_test_transformed = pipeline.transform(X_test)"
      ],
      "execution_count": null,
      "outputs": []
    },
    {
      "cell_type": "code",
      "metadata": {
        "id": "F1srn3JqZxcN"
      },
      "source": [
        "_, _, reconstructed_sample= vae.encoder.predict(X_test_transformed, batch_size=BATCH_SIZE)"
      ],
      "execution_count": null,
      "outputs": []
    },
    {
      "cell_type": "code",
      "metadata": {
        "id": "ZxqCuYhKbPCe"
      },
      "source": [
        "reconstructed_x = vae.decoder.predict(reconstructed_sample,batch_size=BATCH_SIZE)"
      ],
      "execution_count": null,
      "outputs": []
    },
    {
      "cell_type": "markdown",
      "metadata": {
        "id": "VVMIOjCNbODQ"
      },
      "source": [
        "# MSE and plots"
      ]
    },
    {
      "cell_type": "code",
      "metadata": {
        "id": "YjgllvWzGsCe"
      },
      "source": [
        "# calculating the mean squared error reconstruction loss per row in the numpy array\n",
        "mse = np.mean(np.power(X_test_transformed - reconstructed_x, 2), axis=1)"
      ],
      "execution_count": null,
      "outputs": []
    },
    {
      "cell_type": "code",
      "metadata": {
        "id": "Q3rh1I-cAjin"
      },
      "source": [
        "%matplotlib inline"
      ],
      "execution_count": null,
      "outputs": []
    },
    {
      "cell_type": "code",
      "metadata": {
        "id": "6GF0RLDGG0nG",
        "colab": {
          "base_uri": "https://localhost:8080/",
          "height": 393
        },
        "outputId": "841a4a8e-9349-4e20-ad73-fab8e8c023b3"
      },
      "source": [
        "normal_ = mse[y_test==0]\n",
        "attack_ = mse[y_test==1]\n",
        "\n",
        "fig, ax = plt.subplots(figsize=(6,6))\n",
        "\n",
        "ax.hist(normal_, bins=20, density=True, label=\"normal\", alpha=.6, color=\"green\")\n",
        "ax.hist(attack_, bins=20, density=True, label=\"attack\", alpha=.6, color=\"red\")\n",
        "\n",
        "plt.title(\"(Normalized) Distribution of the Reconstruction Loss\")\n",
        "plt.legend()\n",
        "plt.show()"
      ],
      "execution_count": null,
      "outputs": [
        {
          "output_type": "display_data",
          "data": {
            "image/png": "[encoded data removed]",
            "text/plain": [
              "<Figure size 432x432 with 1 Axes>"
            ]
          },
          "metadata": {
            "tags": [],
            "needs_background": "light"
          }
        }
      ]
    },
    {
      "cell_type": "markdown",
      "metadata": {
        "id": "cc3ZWv70unAP"
      },
      "source": [
        "#Unsupervised\n",
        "**Percentiles**\n",
        "\n",
        "We could set this threshold by taking the top x% of the dataset and considering it anomalous.\n",
        "\n",
        "**MAD**\n",
        "\n",
        "We could also use a modified Z-score using the Median Absolute Deviation to define outliers on our reconstruction data. This algorithm is more robust and scalable than the percentiles method."
      ]
    },
    {
      "cell_type": "code",
      "metadata": {
        "id": "wKDz034d47O9"
      },
      "source": [
        "THRESHOLD = 0.5\n",
        "\n",
        "def mad_score(points):\n",
        "    \"\"\"https://www.itl.nist.gov/div898/handbook/eda/section3/eda35h.htm \"\"\"\n",
        "    m = np.median(points)\n",
        "    ad = np.abs(points - m)\n",
        "    mad = np.median(ad)\n",
        "    \n",
        "    return 0.6745 * ad / mad\n",
        "\n",
        "z_scores = mad_score(mse)\n",
        "outliers = z_scores < THRESHOLD\n"
      ],
      "execution_count": null,
      "outputs": []
    },
    {
      "cell_type": "code",
      "metadata": {
        "colab": {
          "base_uri": "https://localhost:8080/",
          "height": 393
        },
        "id": "FVFQlAZpbLAL",
        "outputId": "e6556e49-9049-4e86-bca0-240173f136e7"
      },
      "source": [
        "clean = z_scores[y_test==0]\n",
        "fraud = z_scores[y_test==1]\n",
        "\n",
        "fig, ax = plt.subplots(figsize=(6,6))\n",
        "\n",
        "ax.hist(clean, bins=20, density=True, label=\"clean\", alpha=.6, color=\"green\")\n",
        "ax.hist(fraud, bins=20, density=True, label=\"fraud\", alpha=.6, color=\"red\")\n",
        "\n",
        "plt.title(\"Distribution of the modified z-scores\")\n",
        "plt.legend()\n",
        "plt.show()"
      ],
      "execution_count": null,
      "outputs": [
        {
          "output_type": "display_data",
          "data": {
            "image/png": "[encoded data removed]",
            "text/plain": [
              "<Figure size 432x432 with 1 Axes>"
            ]
          },
          "metadata": {
            "tags": [],
            "needs_background": "light"
          }
        }
      ]
    },
    {
      "cell_type": "code",
      "metadata": {
        "colab": {
          "base_uri": "https://localhost:8080/"
        },
        "id": "tu8hi6GWvXFC",
        "outputId": "5404e018-d6c7-40ec-cfb3-42d661590207"
      },
      "source": [
        "print(f\"Detected {np.sum(outliers):,} outliers in a total of {np.size(z_scores):,} transactions [{np.sum(outliers)/np.size(z_scores):.2%}].\")"
      ],
      "execution_count": null,
      "outputs": [
        {
          "output_type": "stream",
          "text": [
            "Detected 367,457 outliers in a total of 1,113,112 transactions [33.01%].\n"
          ],
          "name": "stdout"
        }
      ]
    },
    {
      "cell_type": "markdown",
      "metadata": {
        "id": "2FIWZdzRvsgX"
      },
      "source": [
        "#Supervised\n",
        "We know the labels, so we can verify our results.\n",
        "\n"
      ]
    },
    {
      "cell_type": "code",
      "metadata": {
        "colab": {
          "base_uri": "https://localhost:8080/"
        },
        "id": "uHHZx011zndm",
        "outputId": "9ca7fbe0-2d82-492f-afd8-26ed4aec3c05"
      },
      "source": [
        "from sklearn.metrics import classification_report\n",
        "print(classification_report(y_test, outliers))"
      ],
      "execution_count": null,
      "outputs": [
        {
          "output_type": "stream",
          "text": [
            "              precision    recall  f1-score   support\n",
            "\n",
            "           0       0.56      0.75      0.64    556556\n",
            "           1       0.63      0.41      0.50    556556\n",
            "\n",
            "    accuracy                           0.58   1113112\n",
            "   macro avg       0.60      0.58      0.57   1113112\n",
            "weighted avg       0.60      0.58      0.57   1113112\n",
            "\n"
          ],
          "name": "stdout"
        }
      ]
    },
    {
      "cell_type": "markdown",
      "metadata": {
        "id": "7g4TCou6iG5N"
      },
      "source": [
        "#AUC curves"
      ]
    },
    {
      "cell_type": "code",
      "metadata": {
        "id": "lGKrlys0iG5O"
      },
      "source": [
        "from sklearn.metrics import roc_auc_score, roc_curve\n",
        "mse_score = mse\n",
        "\n",
        "if roc_auc_score(y_test, mse_score)<0.5:\n",
        "    mse_score *= -1\n",
        "\n",
        "fpr, tpr, thresholds = roc_curve(y_test, mse_score)\n",
        "auc_score = roc_auc_score(y_test, mse_score)\n",
        "fig, ax1 = plt.subplots(1, 1, figsize = (8, 8))\n",
        "ax1.plot(fpr, tpr, 'b.-', label = 'ROC Curve (%2.2f)' %  auc_score)\n",
        "ax1.plot(fpr, fpr, 'k-', label = 'Random Guessing')\n",
        "ax1.legend();"
      ],
      "execution_count": null,
      "outputs": []
    },
    {
      "cell_type": "code",
      "metadata": {
        "id": "GOP2K_SCQq6u"
      },
      "source": [
        "mse_score = z_scores\n",
        "\n",
        "if roc_auc_score(y_test, mse_score)<0.5:\n",
        "    mse_score *= -1\n",
        "\n",
        "fpr, tpr, thresholds = roc_curve(y_test, mse_score)\n",
        "auc_score = roc_auc_score(y_test, mse_score)\n",
        "fig, ax1 = plt.subplots(1, 1, figsize = (8, 8))\n",
        "ax1.plot(fpr, tpr, 'b.-', label = 'ROC Curve (%2.2f)' %  auc_score)\n",
        "ax1.plot(fpr, fpr, 'k-', label = 'Random Guessing')\n",
        "ax1.legend();"
      ],
      "execution_count": null,
      "outputs": []
    }
  ]
}